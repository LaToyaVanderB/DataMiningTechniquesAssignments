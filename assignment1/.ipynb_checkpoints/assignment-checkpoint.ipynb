{
 "cells": [
  {
   "cell_type": "markdown",
   "id": "a883c060",
   "metadata": {},
   "source": [
    "# Assignment 1 Data Mining Techniques"
   ]
  },
  {
   "cell_type": "markdown",
   "id": "07f38948",
   "metadata": {},
   "source": [
    "# 1A\n",
    "## Description of the dataset (statistics) 3\n",
    "## Plots of some features 3\n",
    "## Interpretation and rationale 4"
   ]
  },
  {
   "cell_type": "markdown",
   "id": "10319b64",
   "metadata": {},
   "source": [
    "# 1B\n",
    "## Description of approach and results to remove outliers 2\n",
    "## Description of two approaches to impute missing values and comparison 3\n",
    "## Interpretation and rationale 5"
   ]
  },
  {
   "cell_type": "markdown",
   "id": "bb0a59f6",
   "metadata": {},
   "source": [
    "# 1C \n",
    "## Description of feature engineering approach 5\n",
    "## Interpretation and rationale 5"
   ]
  },
  {
   "cell_type": "markdown",
   "id": "bf875d0e",
   "metadata": {},
   "source": [
    "# 2A\n",
    "## Description of classification approaches 4\n",
    "## Description of hyperparameter optimization 2\n",
    "## Description of evaluation setup 4\n",
    "## Description of results 5\n",
    "## Interpretation and rationale 5"
   ]
  },
  {
   "cell_type": "markdown",
   "id": "1ed86d20",
   "metadata": {},
   "source": [
    "# 2B\n",
    "## Description of the competition 2\n",
    "## Describe winning technique 4\n",
    "## Analysis/comparison 4"
   ]
  },
  {
   "cell_type": "markdown",
   "id": "fb6e9235",
   "metadata": {},
   "source": [
    "# 3\n",
    "## Description of algorithm 5\n",
    "## Discussion pros and cons 5"
   ]
  },
  {
   "cell_type": "markdown",
   "id": "ac18dd05",
   "metadata": {},
   "source": [
    "# 4\n",
    "## Description of regression approaches 2\n",
    "## Description of hyperparameter optimization 1\n",
    "## Description of evaluation setup 2\n",
    "## Description of results 2\n",
    "## Interpretation and rationale 2"
   ]
  },
  {
   "cell_type": "markdown",
   "id": "2b97669a",
   "metadata": {},
   "source": [
    "# 5A\n",
    "## Formulae 2\n",
    "## Example 4\n",
    "## Rationale 4"
   ]
  },
  {
   "cell_type": "markdown",
   "id": "00ee0945",
   "metadata": {},
   "source": [
    "# 5B \n",
    "## Description of results 5\n",
    "## Interpretation and rationale 2"
   ]
  },
  {
   "cell_type": "code",
   "execution_count": null,
   "id": "47e107e9",
   "metadata": {},
   "outputs": [],
   "source": []
  }
 ],
 "metadata": {
  "kernelspec": {
   "display_name": "Python 3.9 (pytorch)",
   "language": "python",
   "name": "pytorch"
  },
  "language_info": {
   "codemirror_mode": {
    "name": "ipython",
    "version": 3
   },
   "file_extension": ".py",
   "mimetype": "text/x-python",
   "name": "python",
   "nbconvert_exporter": "python",
   "pygments_lexer": "ipython3",
   "version": "3.9.16"
  }
 },
 "nbformat": 4,
 "nbformat_minor": 5
}
